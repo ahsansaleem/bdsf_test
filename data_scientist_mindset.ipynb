{
 "cells": [
  {
   "cell_type": "markdown",
   "metadata": {
    "id": "OJ5hEgkYPMRf"
   },
   "source": [
    "# Import Requred Libraries"
   ]
  },
  {
   "cell_type": "code",
   "execution_count": 20,
   "metadata": {
    "id": "5mFZ40IpPMRk"
   },
   "outputs": [],
   "source": [
    "import pandas as pd\n",
    "import numpy as np\n",
    "import seaborn as sns"
   ]
  },
  {
   "cell_type": "markdown",
   "metadata": {
    "id": "hYZo5gBXPMRm"
   },
   "source": [
    "# Loading Data"
   ]
  },
  {
   "cell_type": "code",
   "execution_count": 21,
   "metadata": {
    "colab": {
     "base_uri": "https://localhost:8080/",
     "height": 35
    },
    "executionInfo": {
     "elapsed": 131,
     "status": "ok",
     "timestamp": 1638718693237,
     "user": {
      "displayName": "Saeed Mirshekari",
      "photoUrl": "https://lh3.googleusercontent.com/a-/AOh14GiiQOvuj84a-ZquKfQuV2NO76_GZu2UX86ofuIcTQ=s64",
      "userId": "06193584790654292035"
     },
     "user_tz": 360
    },
    "id": "tDuE1qh1PMRm",
    "outputId": "a6d9301a-feff-4726-f0d5-83a3eded7a97"
   },
   "outputs": [
    {
     "data": {
      "text/plain": [
       "'C:\\\\Users\\\\Ahsan\\\\bdsf'"
      ]
     },
     "execution_count": 21,
     "metadata": {},
     "output_type": "execute_result"
    }
   ],
   "source": [
    "pwd"
   ]
  },
  {
   "cell_type": "code",
   "execution_count": 22,
   "metadata": {
    "id": "7MBtyJn2PMRn",
    "outputId": "86917357-d057-4144-d09d-01e89917aac9"
   },
   "outputs": [
    {
     "name": "stdout",
     "output_type": "stream",
     "text": [
      "C:\\Users\\Ahsan\\bdsf\n"
     ]
    }
   ],
   "source": [
    "cd C:\\Users\\Ahsan\\bdsf"
   ]
  },
  {
   "cell_type": "code",
   "execution_count": 122,
   "metadata": {
    "colab": {
     "base_uri": "https://localhost:8080/",
     "height": 241
    },
    "executionInfo": {
     "elapsed": 135,
     "status": "ok",
     "timestamp": 1638718845240,
     "user": {
      "displayName": "Saeed Mirshekari",
      "photoUrl": "https://lh3.googleusercontent.com/a-/AOh14GiiQOvuj84a-ZquKfQuV2NO76_GZu2UX86ofuIcTQ=s64",
      "userId": "06193584790654292035"
     },
     "user_tz": 360
    },
    "id": "APKxAEFtPMRo",
    "outputId": "88ce7f30-206f-4524-c4ab-43e979162b51"
   },
   "outputs": [
    {
     "data": {
      "text/html": [
       "<div>\n",
       "<style scoped>\n",
       "    .dataframe tbody tr th:only-of-type {\n",
       "        vertical-align: middle;\n",
       "    }\n",
       "\n",
       "    .dataframe tbody tr th {\n",
       "        vertical-align: top;\n",
       "    }\n",
       "\n",
       "    .dataframe thead th {\n",
       "        text-align: right;\n",
       "    }\n",
       "</style>\n",
       "<table border=\"1\" class=\"dataframe\">\n",
       "  <thead>\n",
       "    <tr style=\"text-align: right;\">\n",
       "      <th></th>\n",
       "      <th>Avg. Area Income</th>\n",
       "      <th>Avg. Area House Age</th>\n",
       "      <th>Avg. Area Number of Rooms</th>\n",
       "      <th>Avg. Area Number of Bedrooms</th>\n",
       "      <th>Area Population</th>\n",
       "      <th>Price</th>\n",
       "      <th>Address</th>\n",
       "    </tr>\n",
       "  </thead>\n",
       "  <tbody>\n",
       "    <tr>\n",
       "      <th>0</th>\n",
       "      <td>79545.458574</td>\n",
       "      <td>5.682861</td>\n",
       "      <td>7.009188</td>\n",
       "      <td>4.09</td>\n",
       "      <td>23086.800503</td>\n",
       "      <td>1.059034e+06</td>\n",
       "      <td>208 Michael Ferry Apt. 674\\nLaurabury, NE 3701...</td>\n",
       "    </tr>\n",
       "    <tr>\n",
       "      <th>1</th>\n",
       "      <td>79248.642455</td>\n",
       "      <td>6.002900</td>\n",
       "      <td>6.730821</td>\n",
       "      <td>3.09</td>\n",
       "      <td>40173.072174</td>\n",
       "      <td>1.505891e+06</td>\n",
       "      <td>188 Johnson Views Suite 079\\nLake Kathleen, CA...</td>\n",
       "    </tr>\n",
       "    <tr>\n",
       "      <th>2</th>\n",
       "      <td>61287.067179</td>\n",
       "      <td>5.865890</td>\n",
       "      <td>8.512727</td>\n",
       "      <td>5.13</td>\n",
       "      <td>36882.159400</td>\n",
       "      <td>1.058988e+06</td>\n",
       "      <td>9127 Elizabeth Stravenue\\nDanieltown, WI 06482...</td>\n",
       "    </tr>\n",
       "    <tr>\n",
       "      <th>3</th>\n",
       "      <td>63345.240046</td>\n",
       "      <td>7.188236</td>\n",
       "      <td>5.586729</td>\n",
       "      <td>3.26</td>\n",
       "      <td>34310.242831</td>\n",
       "      <td>1.260617e+06</td>\n",
       "      <td>USS Barnett\\nFPO AP 44820</td>\n",
       "    </tr>\n",
       "    <tr>\n",
       "      <th>4</th>\n",
       "      <td>59982.197226</td>\n",
       "      <td>5.040555</td>\n",
       "      <td>7.839388</td>\n",
       "      <td>4.23</td>\n",
       "      <td>26354.109472</td>\n",
       "      <td>6.309435e+05</td>\n",
       "      <td>USNS Raymond\\nFPO AE 09386</td>\n",
       "    </tr>\n",
       "  </tbody>\n",
       "</table>\n",
       "</div>"
      ],
      "text/plain": [
       "   Avg. Area Income  Avg. Area House Age  Avg. Area Number of Rooms  \\\n",
       "0      79545.458574             5.682861                   7.009188   \n",
       "1      79248.642455             6.002900                   6.730821   \n",
       "2      61287.067179             5.865890                   8.512727   \n",
       "3      63345.240046             7.188236                   5.586729   \n",
       "4      59982.197226             5.040555                   7.839388   \n",
       "\n",
       "   Avg. Area Number of Bedrooms  Area Population         Price  \\\n",
       "0                          4.09     23086.800503  1.059034e+06   \n",
       "1                          3.09     40173.072174  1.505891e+06   \n",
       "2                          5.13     36882.159400  1.058988e+06   \n",
       "3                          3.26     34310.242831  1.260617e+06   \n",
       "4                          4.23     26354.109472  6.309435e+05   \n",
       "\n",
       "                                             Address  \n",
       "0  208 Michael Ferry Apt. 674\\nLaurabury, NE 3701...  \n",
       "1  188 Johnson Views Suite 079\\nLake Kathleen, CA...  \n",
       "2  9127 Elizabeth Stravenue\\nDanieltown, WI 06482...  \n",
       "3                          USS Barnett\\nFPO AP 44820  \n",
       "4                         USNS Raymond\\nFPO AE 09386  "
      ]
     },
     "execution_count": 122,
     "metadata": {},
     "output_type": "execute_result"
    }
   ],
   "source": [
    "df = pd.read_csv(r'C:\\Users\\Ahsan\\bdsf\\USA_Housing.csv')\n",
    "df.head()"
   ]
  },
  {
   "cell_type": "code",
   "execution_count": 25,
   "metadata": {
    "colab": {
     "base_uri": "https://localhost:8080/"
    },
    "executionInfo": {
     "elapsed": 121,
     "status": "ok",
     "timestamp": 1638718886424,
     "user": {
      "displayName": "Saeed Mirshekari",
      "photoUrl": "https://lh3.googleusercontent.com/a-/AOh14GiiQOvuj84a-ZquKfQuV2NO76_GZu2UX86ofuIcTQ=s64",
      "userId": "06193584790654292035"
     },
     "user_tz": 360
    },
    "id": "wr1Ld3r4PMRp",
    "outputId": "e01a4550-59cf-4265-a90d-3b9cce0b7d77"
   },
   "outputs": [
    {
     "data": {
      "text/plain": [
       "str"
      ]
     },
     "execution_count": 25,
     "metadata": {},
     "output_type": "execute_result"
    }
   ],
   "source": [
    "type(df['Address'][0])"
   ]
  },
  {
   "cell_type": "code",
   "execution_count": 26,
   "metadata": {
    "colab": {
     "base_uri": "https://localhost:8080/"
    },
    "executionInfo": {
     "elapsed": 112,
     "status": "ok",
     "timestamp": 1638718891780,
     "user": {
      "displayName": "Saeed Mirshekari",
      "photoUrl": "https://lh3.googleusercontent.com/a-/AOh14GiiQOvuj84a-ZquKfQuV2NO76_GZu2UX86ofuIcTQ=s64",
      "userId": "06193584790654292035"
     },
     "user_tz": 360
    },
    "id": "e-EA6e6hPMRp",
    "outputId": "2b78c1c7-42a6-4258-91c5-ecdd9bac8abd"
   },
   "outputs": [
    {
     "data": {
      "text/plain": [
       "numpy.float64"
      ]
     },
     "execution_count": 26,
     "metadata": {},
     "output_type": "execute_result"
    }
   ],
   "source": [
    "type(df['Avg. Area Income'][0])"
   ]
  },
  {
   "cell_type": "code",
   "execution_count": null,
   "metadata": {
    "id": "nVSPZX8_PMRq"
   },
   "outputs": [],
   "source": []
  },
  {
   "cell_type": "markdown",
   "metadata": {
    "id": "dlI3qcsWPMRr"
   },
   "source": [
    "### What is the unique idetifer of each row in this data-set?"
   ]
  },
  {
   "cell_type": "code",
   "execution_count": 34,
   "metadata": {
    "id": "-ZrVTSY_PMRr"
   },
   "outputs": [
    {
     "data": {
      "text/plain": [
       "0       208 Michael Ferry Apt. 674\\nLaurabury, NE 3701...\n",
       "1       188 Johnson Views Suite 079\\nLake Kathleen, CA...\n",
       "2       9127 Elizabeth Stravenue\\nDanieltown, WI 06482...\n",
       "3                               USS Barnett\\nFPO AP 44820\n",
       "4                              USNS Raymond\\nFPO AE 09386\n",
       "                              ...                        \n",
       "4995                     USNS Williams\\nFPO AP 30153-7653\n",
       "4996                PSC 9258, Box 8489\\nAPO AA 42991-3352\n",
       "4997    4215 Tracy Garden Suite 076\\nJoshualand, VA 01...\n",
       "4998                            USS Wallace\\nFPO AE 73316\n",
       "4999    37778 George Ridges Apt. 509\\nEast Holly, NV 2...\n",
       "Name: Address, Length: 5000, dtype: object"
      ]
     },
     "execution_count": 34,
     "metadata": {},
     "output_type": "execute_result"
    }
   ],
   "source": [
    "df['Address']"
   ]
  },
  {
   "cell_type": "markdown",
   "metadata": {
    "id": "OEzIJ6H5PMRs"
   },
   "source": [
    "### What is the data type of the values of the column \"Avg. Area Number of Bedrooms\"?"
   ]
  },
  {
   "cell_type": "code",
   "execution_count": 35,
   "metadata": {
    "id": "47Aq623OPMRs"
   },
   "outputs": [
    {
     "data": {
      "text/plain": [
       "numpy.float64"
      ]
     },
     "execution_count": 35,
     "metadata": {},
     "output_type": "execute_result"
    }
   ],
   "source": [
    "type(df['Avg. Area Number of Bedrooms'][0])"
   ]
  },
  {
   "cell_type": "markdown",
   "metadata": {
    "id": "BLg1Oy_xPMRt"
   },
   "source": [
    "### Explore the dataframe and try to use functions in Pandas to explore around!"
   ]
  },
  {
   "cell_type": "code",
   "execution_count": 116,
   "metadata": {
    "id": "adrixc7yPMRt"
   },
   "outputs": [
    {
     "data": {
      "text/plain": [
       "Avg. Area Income                                                     80527.472083\n",
       "Avg. Area House Age                                                      8.093513\n",
       "Avg. Area Number of Rooms                                                5.042747\n",
       "Avg. Area Number of Bedrooms                                                  4.1\n",
       "Area Population                                                       47224.35984\n",
       "New Column                                                              testing10\n",
       "New Column                                                              testing10\n",
       "New Column                                                              testing10\n",
       "New Column                                                              testing10\n",
       "Price                                                              1707045.722158\n",
       "Address                         6368 John Motorway Suite 700\\nJanetbury, NM 26854\n",
       "Name: 10, dtype: object"
      ]
     },
     "execution_count": 116,
     "metadata": {},
     "output_type": "execute_result"
    }
   ],
   "source": [
    "\n",
    "\n",
    "df.shape\n",
    "\n",
    "pd.melt(df)\n",
    "\n",
    "df.drop_duplicates()\n",
    "df.loc[5:15,:]\n",
    "df.loc[100:110,:]\n",
    "df.loc[10,[\"Price\"]]\n",
    "\n",
    "df.iloc[10,5]\n",
    "\n",
    "newcol =[]\n",
    "\n",
    "for i in range(len(df)):\n",
    "    newcol.append(\"testing\" + str(i))\n",
    "\n",
    "\n",
    "df.insert(5, \"New Column\", newcol, True)\n",
    "df\n",
    "\n",
    "df['Avg. Area Number of Bedrooms'].value_counts()\n",
    "\n",
    "df['Address'].nunique()\n",
    "\n",
    "df['Price'].mean()\n"
   ]
  },
  {
   "cell_type": "markdown",
   "metadata": {
    "id": "LaK1jYriPMRt"
   },
   "source": [
    "### Look for bad data, outliers and missing values in this dataset!"
   ]
  },
  {
   "cell_type": "code",
   "execution_count": 126,
   "metadata": {
    "id": "6ZGaNbEsPMRu"
   },
   "outputs": [
    {
     "name": "stdout",
     "output_type": "stream",
     "text": [
      "Outliers in : Avg. Area Income\n"
     ]
    },
    {
     "data": {
      "text/html": [
       "<div>\n",
       "<style scoped>\n",
       "    .dataframe tbody tr th:only-of-type {\n",
       "        vertical-align: middle;\n",
       "    }\n",
       "\n",
       "    .dataframe tbody tr th {\n",
       "        vertical-align: top;\n",
       "    }\n",
       "\n",
       "    .dataframe thead th {\n",
       "        text-align: right;\n",
       "    }\n",
       "</style>\n",
       "<table border=\"1\" class=\"dataframe\">\n",
       "  <thead>\n",
       "    <tr style=\"text-align: right;\">\n",
       "      <th></th>\n",
       "      <th>Avg. Area Income</th>\n",
       "      <th>Avg. Area House Age</th>\n",
       "      <th>Avg. Area Number of Rooms</th>\n",
       "      <th>Avg. Area Number of Bedrooms</th>\n",
       "      <th>Area Population</th>\n",
       "      <th>Price</th>\n",
       "      <th>Address</th>\n",
       "    </tr>\n",
       "  </thead>\n",
       "  <tbody>\n",
       "    <tr>\n",
       "      <th>693</th>\n",
       "      <td>107701.748378</td>\n",
       "      <td>7.143522</td>\n",
       "      <td>8.518608</td>\n",
       "      <td>3.29</td>\n",
       "      <td>37619.439929</td>\n",
       "      <td>2.332111e+06</td>\n",
       "      <td>41017 Eric Village\\nJonathanport, CO 37205</td>\n",
       "    </tr>\n",
       "    <tr>\n",
       "      <th>962</th>\n",
       "      <td>101928.858060</td>\n",
       "      <td>4.829586</td>\n",
       "      <td>9.039382</td>\n",
       "      <td>4.08</td>\n",
       "      <td>22804.991935</td>\n",
       "      <td>1.938866e+06</td>\n",
       "      <td>856 Harris Centers Suite 940\\nNicholasport, IL...</td>\n",
       "    </tr>\n",
       "    <tr>\n",
       "      <th>1734</th>\n",
       "      <td>104702.724257</td>\n",
       "      <td>5.575523</td>\n",
       "      <td>6.932106</td>\n",
       "      <td>3.22</td>\n",
       "      <td>22560.527135</td>\n",
       "      <td>1.742432e+06</td>\n",
       "      <td>14230 Douglas River Suite 570\\nConniechester, ...</td>\n",
       "    </tr>\n",
       "    <tr>\n",
       "      <th>1891</th>\n",
       "      <td>101144.323930</td>\n",
       "      <td>6.350845</td>\n",
       "      <td>7.231771</td>\n",
       "      <td>3.09</td>\n",
       "      <td>35772.524007</td>\n",
       "      <td>2.007556e+06</td>\n",
       "      <td>233 Wilson Ranch Suite 086\\nWest Christine, IN...</td>\n",
       "    </tr>\n",
       "    <tr>\n",
       "      <th>2719</th>\n",
       "      <td>101599.670580</td>\n",
       "      <td>7.798746</td>\n",
       "      <td>7.480512</td>\n",
       "      <td>6.39</td>\n",
       "      <td>37523.864670</td>\n",
       "      <td>2.370231e+06</td>\n",
       "      <td>52280 Steven Street\\nRobertchester, IA 40405-0504</td>\n",
       "    </tr>\n",
       "    <tr>\n",
       "      <th>3541</th>\n",
       "      <td>102881.120902</td>\n",
       "      <td>6.471249</td>\n",
       "      <td>5.693536</td>\n",
       "      <td>3.12</td>\n",
       "      <td>21051.531294</td>\n",
       "      <td>1.754938e+06</td>\n",
       "      <td>784 Arnold Prairie Apt. 787\\nJamesside, NM 04270</td>\n",
       "    </tr>\n",
       "    <tr>\n",
       "      <th>4087</th>\n",
       "      <td>100741.298585</td>\n",
       "      <td>5.870726</td>\n",
       "      <td>6.644853</td>\n",
       "      <td>4.33</td>\n",
       "      <td>26041.487616</td>\n",
       "      <td>1.644923e+06</td>\n",
       "      <td>5155 Virginia Station\\nFischerberg, PA 75078-8129</td>\n",
       "    </tr>\n",
       "  </tbody>\n",
       "</table>\n",
       "</div>"
      ],
      "text/plain": [
       "      Avg. Area Income  Avg. Area House Age  Avg. Area Number of Rooms  \\\n",
       "693      107701.748378             7.143522                   8.518608   \n",
       "962      101928.858060             4.829586                   9.039382   \n",
       "1734     104702.724257             5.575523                   6.932106   \n",
       "1891     101144.323930             6.350845                   7.231771   \n",
       "2719     101599.670580             7.798746                   7.480512   \n",
       "3541     102881.120902             6.471249                   5.693536   \n",
       "4087     100741.298585             5.870726                   6.644853   \n",
       "\n",
       "      Avg. Area Number of Bedrooms  Area Population         Price  \\\n",
       "693                           3.29     37619.439929  2.332111e+06   \n",
       "962                           4.08     22804.991935  1.938866e+06   \n",
       "1734                          3.22     22560.527135  1.742432e+06   \n",
       "1891                          3.09     35772.524007  2.007556e+06   \n",
       "2719                          6.39     37523.864670  2.370231e+06   \n",
       "3541                          3.12     21051.531294  1.754938e+06   \n",
       "4087                          4.33     26041.487616  1.644923e+06   \n",
       "\n",
       "                                                Address  \n",
       "693          41017 Eric Village\\nJonathanport, CO 37205  \n",
       "962   856 Harris Centers Suite 940\\nNicholasport, IL...  \n",
       "1734  14230 Douglas River Suite 570\\nConniechester, ...  \n",
       "1891  233 Wilson Ranch Suite 086\\nWest Christine, IN...  \n",
       "2719  52280 Steven Street\\nRobertchester, IA 40405-0504  \n",
       "3541   784 Arnold Prairie Apt. 787\\nJamesside, NM 04270  \n",
       "4087  5155 Virginia Station\\nFischerberg, PA 75078-8129  "
      ]
     },
     "metadata": {},
     "output_type": "display_data"
    },
    {
     "name": "stdout",
     "output_type": "stream",
     "text": [
      "Outliers in : Avg. Area House Age\n"
     ]
    },
    {
     "data": {
      "text/html": [
       "<div>\n",
       "<style scoped>\n",
       "    .dataframe tbody tr th:only-of-type {\n",
       "        vertical-align: middle;\n",
       "    }\n",
       "\n",
       "    .dataframe tbody tr th {\n",
       "        vertical-align: top;\n",
       "    }\n",
       "\n",
       "    .dataframe thead th {\n",
       "        text-align: right;\n",
       "    }\n",
       "</style>\n",
       "<table border=\"1\" class=\"dataframe\">\n",
       "  <thead>\n",
       "    <tr style=\"text-align: right;\">\n",
       "      <th></th>\n",
       "      <th>Avg. Area Income</th>\n",
       "      <th>Avg. Area House Age</th>\n",
       "      <th>Avg. Area Number of Rooms</th>\n",
       "      <th>Avg. Area Number of Bedrooms</th>\n",
       "      <th>Area Population</th>\n",
       "      <th>Price</th>\n",
       "      <th>Address</th>\n",
       "    </tr>\n",
       "  </thead>\n",
       "  <tbody>\n",
       "    <tr>\n",
       "      <th>1091</th>\n",
       "      <td>75358.482596</td>\n",
       "      <td>8.991399</td>\n",
       "      <td>7.282680</td>\n",
       "      <td>3.20</td>\n",
       "      <td>21319.994301</td>\n",
       "      <td>1.740405e+06</td>\n",
       "      <td>84910 Lloyd Green Apt. 744\\nLake Lynn, AK 7325...</td>\n",
       "    </tr>\n",
       "    <tr>\n",
       "      <th>1777</th>\n",
       "      <td>61025.390260</td>\n",
       "      <td>8.973441</td>\n",
       "      <td>7.905595</td>\n",
       "      <td>6.30</td>\n",
       "      <td>34730.766805</td>\n",
       "      <td>1.468267e+06</td>\n",
       "      <td>04858 Toni Stream\\nVargaston, AR 13958</td>\n",
       "    </tr>\n",
       "    <tr>\n",
       "      <th>2898</th>\n",
       "      <td>57293.427401</td>\n",
       "      <td>9.125283</td>\n",
       "      <td>7.780008</td>\n",
       "      <td>4.30</td>\n",
       "      <td>27991.839998</td>\n",
       "      <td>1.561314e+06</td>\n",
       "      <td>854 Brown Park Apt. 787\\nNew Alexander, NH 99886</td>\n",
       "    </tr>\n",
       "    <tr>\n",
       "      <th>3138</th>\n",
       "      <td>77352.637603</td>\n",
       "      <td>9.008900</td>\n",
       "      <td>5.894762</td>\n",
       "      <td>3.49</td>\n",
       "      <td>39667.507264</td>\n",
       "      <td>1.898169e+06</td>\n",
       "      <td>969 Robert Vista Suite 545\\nWest Kelly, NC 318...</td>\n",
       "    </tr>\n",
       "    <tr>\n",
       "      <th>3989</th>\n",
       "      <td>65274.139949</td>\n",
       "      <td>9.519088</td>\n",
       "      <td>6.203729</td>\n",
       "      <td>2.05</td>\n",
       "      <td>25620.915694</td>\n",
       "      <td>1.399906e+06</td>\n",
       "      <td>96381 Sonya Mission\\nEast Kevin, OK 68218-3510</td>\n",
       "    </tr>\n",
       "  </tbody>\n",
       "</table>\n",
       "</div>"
      ],
      "text/plain": [
       "      Avg. Area Income  Avg. Area House Age  Avg. Area Number of Rooms  \\\n",
       "1091      75358.482596             8.991399                   7.282680   \n",
       "1777      61025.390260             8.973441                   7.905595   \n",
       "2898      57293.427401             9.125283                   7.780008   \n",
       "3138      77352.637603             9.008900                   5.894762   \n",
       "3989      65274.139949             9.519088                   6.203729   \n",
       "\n",
       "      Avg. Area Number of Bedrooms  Area Population         Price  \\\n",
       "1091                          3.20     21319.994301  1.740405e+06   \n",
       "1777                          6.30     34730.766805  1.468267e+06   \n",
       "2898                          4.30     27991.839998  1.561314e+06   \n",
       "3138                          3.49     39667.507264  1.898169e+06   \n",
       "3989                          2.05     25620.915694  1.399906e+06   \n",
       "\n",
       "                                                Address  \n",
       "1091  84910 Lloyd Green Apt. 744\\nLake Lynn, AK 7325...  \n",
       "1777             04858 Toni Stream\\nVargaston, AR 13958  \n",
       "2898   854 Brown Park Apt. 787\\nNew Alexander, NH 99886  \n",
       "3138  969 Robert Vista Suite 545\\nWest Kelly, NC 318...  \n",
       "3989     96381 Sonya Mission\\nEast Kevin, OK 68218-3510  "
      ]
     },
     "metadata": {},
     "output_type": "display_data"
    },
    {
     "name": "stdout",
     "output_type": "stream",
     "text": [
      "Outliers in : Avg. Area Number of Rooms\n"
     ]
    },
    {
     "data": {
      "text/html": [
       "<div>\n",
       "<style scoped>\n",
       "    .dataframe tbody tr th:only-of-type {\n",
       "        vertical-align: middle;\n",
       "    }\n",
       "\n",
       "    .dataframe tbody tr th {\n",
       "        vertical-align: top;\n",
       "    }\n",
       "\n",
       "    .dataframe thead th {\n",
       "        text-align: right;\n",
       "    }\n",
       "</style>\n",
       "<table border=\"1\" class=\"dataframe\">\n",
       "  <thead>\n",
       "    <tr style=\"text-align: right;\">\n",
       "      <th></th>\n",
       "      <th>Avg. Area Income</th>\n",
       "      <th>Avg. Area House Age</th>\n",
       "      <th>Avg. Area Number of Rooms</th>\n",
       "      <th>Avg. Area Number of Bedrooms</th>\n",
       "      <th>Area Population</th>\n",
       "      <th>Price</th>\n",
       "      <th>Address</th>\n",
       "    </tr>\n",
       "  </thead>\n",
       "  <tbody>\n",
       "    <tr>\n",
       "      <th>1536</th>\n",
       "      <td>69505.111510</td>\n",
       "      <td>7.352350</td>\n",
       "      <td>10.759588</td>\n",
       "      <td>5.14</td>\n",
       "      <td>48112.200174</td>\n",
       "      <td>2.235295e+06</td>\n",
       "      <td>0665 Dawn Overpass\\nEast Sarabury, CA 82390</td>\n",
       "    </tr>\n",
       "    <tr>\n",
       "      <th>2066</th>\n",
       "      <td>79057.798917</td>\n",
       "      <td>7.634776</td>\n",
       "      <td>10.219902</td>\n",
       "      <td>3.43</td>\n",
       "      <td>27142.028199</td>\n",
       "      <td>2.050594e+06</td>\n",
       "      <td>34645 Brandy Station\\nSalinasport, MO 74104</td>\n",
       "    </tr>\n",
       "    <tr>\n",
       "      <th>3336</th>\n",
       "      <td>73211.136245</td>\n",
       "      <td>6.501139</td>\n",
       "      <td>10.280022</td>\n",
       "      <td>6.23</td>\n",
       "      <td>44198.335811</td>\n",
       "      <td>2.065710e+06</td>\n",
       "      <td>Unit 8831 Box 5748\\nDPO AE 73012-7314</td>\n",
       "    </tr>\n",
       "    <tr>\n",
       "      <th>3806</th>\n",
       "      <td>53230.119707</td>\n",
       "      <td>6.274360</td>\n",
       "      <td>10.024375</td>\n",
       "      <td>3.06</td>\n",
       "      <td>27360.812223</td>\n",
       "      <td>1.311432e+06</td>\n",
       "      <td>71718 Barrett Ramp\\nCaseybury, NH 91777-4042</td>\n",
       "    </tr>\n",
       "    <tr>\n",
       "      <th>3855</th>\n",
       "      <td>68449.047321</td>\n",
       "      <td>8.390376</td>\n",
       "      <td>10.144988</td>\n",
       "      <td>3.14</td>\n",
       "      <td>20145.886508</td>\n",
       "      <td>1.810158e+06</td>\n",
       "      <td>46215 Craig Causeway Suite 574\\nJoyport, DC 81...</td>\n",
       "    </tr>\n",
       "  </tbody>\n",
       "</table>\n",
       "</div>"
      ],
      "text/plain": [
       "      Avg. Area Income  Avg. Area House Age  Avg. Area Number of Rooms  \\\n",
       "1536      69505.111510             7.352350                  10.759588   \n",
       "2066      79057.798917             7.634776                  10.219902   \n",
       "3336      73211.136245             6.501139                  10.280022   \n",
       "3806      53230.119707             6.274360                  10.024375   \n",
       "3855      68449.047321             8.390376                  10.144988   \n",
       "\n",
       "      Avg. Area Number of Bedrooms  Area Population         Price  \\\n",
       "1536                          5.14     48112.200174  2.235295e+06   \n",
       "2066                          3.43     27142.028199  2.050594e+06   \n",
       "3336                          6.23     44198.335811  2.065710e+06   \n",
       "3806                          3.06     27360.812223  1.311432e+06   \n",
       "3855                          3.14     20145.886508  1.810158e+06   \n",
       "\n",
       "                                                Address  \n",
       "1536        0665 Dawn Overpass\\nEast Sarabury, CA 82390  \n",
       "2066        34645 Brandy Station\\nSalinasport, MO 74104  \n",
       "3336              Unit 8831 Box 5748\\nDPO AE 73012-7314  \n",
       "3806       71718 Barrett Ramp\\nCaseybury, NH 91777-4042  \n",
       "3855  46215 Craig Causeway Suite 574\\nJoyport, DC 81...  "
      ]
     },
     "metadata": {},
     "output_type": "display_data"
    },
    {
     "name": "stdout",
     "output_type": "stream",
     "text": [
      "Outliers in : Avg. Area Number of Bedrooms\n"
     ]
    },
    {
     "data": {
      "text/html": [
       "<div>\n",
       "<style scoped>\n",
       "    .dataframe tbody tr th:only-of-type {\n",
       "        vertical-align: middle;\n",
       "    }\n",
       "\n",
       "    .dataframe tbody tr th {\n",
       "        vertical-align: top;\n",
       "    }\n",
       "\n",
       "    .dataframe thead th {\n",
       "        text-align: right;\n",
       "    }\n",
       "</style>\n",
       "<table border=\"1\" class=\"dataframe\">\n",
       "  <thead>\n",
       "    <tr style=\"text-align: right;\">\n",
       "      <th></th>\n",
       "      <th>Avg. Area Income</th>\n",
       "      <th>Avg. Area House Age</th>\n",
       "      <th>Avg. Area Number of Rooms</th>\n",
       "      <th>Avg. Area Number of Bedrooms</th>\n",
       "      <th>Area Population</th>\n",
       "      <th>Price</th>\n",
       "      <th>Address</th>\n",
       "    </tr>\n",
       "  </thead>\n",
       "  <tbody>\n",
       "  </tbody>\n",
       "</table>\n",
       "</div>"
      ],
      "text/plain": [
       "Empty DataFrame\n",
       "Columns: [Avg. Area Income, Avg. Area House Age, Avg. Area Number of Rooms, Avg. Area Number of Bedrooms, Area Population, Price, Address]\n",
       "Index: []"
      ]
     },
     "metadata": {},
     "output_type": "display_data"
    },
    {
     "name": "stdout",
     "output_type": "stream",
     "text": [
      "Outliers in : Area Population\n"
     ]
    },
    {
     "data": {
      "text/html": [
       "<div>\n",
       "<style scoped>\n",
       "    .dataframe tbody tr th:only-of-type {\n",
       "        vertical-align: middle;\n",
       "    }\n",
       "\n",
       "    .dataframe tbody tr th {\n",
       "        vertical-align: top;\n",
       "    }\n",
       "\n",
       "    .dataframe thead th {\n",
       "        text-align: right;\n",
       "    }\n",
       "</style>\n",
       "<table border=\"1\" class=\"dataframe\">\n",
       "  <thead>\n",
       "    <tr style=\"text-align: right;\">\n",
       "      <th></th>\n",
       "      <th>Avg. Area Income</th>\n",
       "      <th>Avg. Area House Age</th>\n",
       "      <th>Avg. Area Number of Rooms</th>\n",
       "      <th>Avg. Area Number of Bedrooms</th>\n",
       "      <th>Area Population</th>\n",
       "      <th>Price</th>\n",
       "      <th>Address</th>\n",
       "    </tr>\n",
       "  </thead>\n",
       "  <tbody>\n",
       "    <tr>\n",
       "      <th>228</th>\n",
       "      <td>66574.709994</td>\n",
       "      <td>5.550265</td>\n",
       "      <td>6.844150</td>\n",
       "      <td>2.17</td>\n",
       "      <td>69575.449464</td>\n",
       "      <td>1.702406e+06</td>\n",
       "      <td>551 Macdonald Viaduct\\nWest Stephanie, TN 55360</td>\n",
       "    </tr>\n",
       "    <tr>\n",
       "      <th>353</th>\n",
       "      <td>72445.033303</td>\n",
       "      <td>5.488197</td>\n",
       "      <td>6.509449</td>\n",
       "      <td>2.48</td>\n",
       "      <td>69553.988327</td>\n",
       "      <td>1.726719e+06</td>\n",
       "      <td>2763 Victoria Pine Apt. 066\\nWest Stephanie, O...</td>\n",
       "    </tr>\n",
       "    <tr>\n",
       "      <th>1234</th>\n",
       "      <td>63785.551276</td>\n",
       "      <td>7.196314</td>\n",
       "      <td>6.357874</td>\n",
       "      <td>4.50</td>\n",
       "      <td>67353.965204</td>\n",
       "      <td>1.747245e+06</td>\n",
       "      <td>USNV Roach\\nFPO AA 76691</td>\n",
       "    </tr>\n",
       "    <tr>\n",
       "      <th>1595</th>\n",
       "      <td>64350.284571</td>\n",
       "      <td>6.761203</td>\n",
       "      <td>7.128710</td>\n",
       "      <td>3.03</td>\n",
       "      <td>69592.040236</td>\n",
       "      <td>1.772391e+06</td>\n",
       "      <td>48205 Bass Viaduct\\nNorth Victormouth, VA 2652...</td>\n",
       "    </tr>\n",
       "    <tr>\n",
       "      <th>2173</th>\n",
       "      <td>50143.644854</td>\n",
       "      <td>4.230051</td>\n",
       "      <td>7.979250</td>\n",
       "      <td>4.04</td>\n",
       "      <td>67601.223558</td>\n",
       "      <td>1.168588e+06</td>\n",
       "      <td>79390 Scott Flat\\nWongbury, SC 60268</td>\n",
       "    </tr>\n",
       "    <tr>\n",
       "      <th>2839</th>\n",
       "      <td>82373.208429</td>\n",
       "      <td>6.327773</td>\n",
       "      <td>7.207986</td>\n",
       "      <td>4.40</td>\n",
       "      <td>67701.649795</td>\n",
       "      <td>2.130762e+06</td>\n",
       "      <td>50114 Wendy Road\\nJoelport, OR 96203-3217</td>\n",
       "    </tr>\n",
       "    <tr>\n",
       "      <th>3134</th>\n",
       "      <td>74112.793288</td>\n",
       "      <td>4.412585</td>\n",
       "      <td>8.054622</td>\n",
       "      <td>3.09</td>\n",
       "      <td>66995.474049</td>\n",
       "      <td>1.737571e+06</td>\n",
       "      <td>04976 Joel Plaza Suite 658\\nSouth Dominiquelan...</td>\n",
       "    </tr>\n",
       "    <tr>\n",
       "      <th>3991</th>\n",
       "      <td>50041.125224</td>\n",
       "      <td>5.981267</td>\n",
       "      <td>8.699555</td>\n",
       "      <td>3.08</td>\n",
       "      <td>68311.695822</td>\n",
       "      <td>1.626676e+06</td>\n",
       "      <td>300 Jamie Freeway\\nSouth Marioshire, MI 12514-...</td>\n",
       "    </tr>\n",
       "    <tr>\n",
       "      <th>4716</th>\n",
       "      <td>38530.124478</td>\n",
       "      <td>4.265906</td>\n",
       "      <td>8.026969</td>\n",
       "      <td>4.47</td>\n",
       "      <td>67727.229051</td>\n",
       "      <td>1.267987e+06</td>\n",
       "      <td>14763 Jeffrey Islands\\nAmytown, WV 47279-7543</td>\n",
       "    </tr>\n",
       "    <tr>\n",
       "      <th>4803</th>\n",
       "      <td>61846.135900</td>\n",
       "      <td>5.057578</td>\n",
       "      <td>7.681141</td>\n",
       "      <td>3.39</td>\n",
       "      <td>69621.713378</td>\n",
       "      <td>1.504316e+06</td>\n",
       "      <td>8500 Colin Shores Apt. 432\\nNew Gilbert, FM 03165</td>\n",
       "    </tr>\n",
       "  </tbody>\n",
       "</table>\n",
       "</div>"
      ],
      "text/plain": [
       "      Avg. Area Income  Avg. Area House Age  Avg. Area Number of Rooms  \\\n",
       "228       66574.709994             5.550265                   6.844150   \n",
       "353       72445.033303             5.488197                   6.509449   \n",
       "1234      63785.551276             7.196314                   6.357874   \n",
       "1595      64350.284571             6.761203                   7.128710   \n",
       "2173      50143.644854             4.230051                   7.979250   \n",
       "2839      82373.208429             6.327773                   7.207986   \n",
       "3134      74112.793288             4.412585                   8.054622   \n",
       "3991      50041.125224             5.981267                   8.699555   \n",
       "4716      38530.124478             4.265906                   8.026969   \n",
       "4803      61846.135900             5.057578                   7.681141   \n",
       "\n",
       "      Avg. Area Number of Bedrooms  Area Population         Price  \\\n",
       "228                           2.17     69575.449464  1.702406e+06   \n",
       "353                           2.48     69553.988327  1.726719e+06   \n",
       "1234                          4.50     67353.965204  1.747245e+06   \n",
       "1595                          3.03     69592.040236  1.772391e+06   \n",
       "2173                          4.04     67601.223558  1.168588e+06   \n",
       "2839                          4.40     67701.649795  2.130762e+06   \n",
       "3134                          3.09     66995.474049  1.737571e+06   \n",
       "3991                          3.08     68311.695822  1.626676e+06   \n",
       "4716                          4.47     67727.229051  1.267987e+06   \n",
       "4803                          3.39     69621.713378  1.504316e+06   \n",
       "\n",
       "                                                Address  \n",
       "228     551 Macdonald Viaduct\\nWest Stephanie, TN 55360  \n",
       "353   2763 Victoria Pine Apt. 066\\nWest Stephanie, O...  \n",
       "1234                           USNV Roach\\nFPO AA 76691  \n",
       "1595  48205 Bass Viaduct\\nNorth Victormouth, VA 2652...  \n",
       "2173               79390 Scott Flat\\nWongbury, SC 60268  \n",
       "2839          50114 Wendy Road\\nJoelport, OR 96203-3217  \n",
       "3134  04976 Joel Plaza Suite 658\\nSouth Dominiquelan...  \n",
       "3991  300 Jamie Freeway\\nSouth Marioshire, MI 12514-...  \n",
       "4716      14763 Jeffrey Islands\\nAmytown, WV 47279-7543  \n",
       "4803  8500 Colin Shores Apt. 432\\nNew Gilbert, FM 03165  "
      ]
     },
     "metadata": {},
     "output_type": "display_data"
    },
    {
     "name": "stdout",
     "output_type": "stream",
     "text": [
      "Outliers in : Price\n"
     ]
    },
    {
     "data": {
      "text/html": [
       "<div>\n",
       "<style scoped>\n",
       "    .dataframe tbody tr th:only-of-type {\n",
       "        vertical-align: middle;\n",
       "    }\n",
       "\n",
       "    .dataframe tbody tr th {\n",
       "        vertical-align: top;\n",
       "    }\n",
       "\n",
       "    .dataframe thead th {\n",
       "        text-align: right;\n",
       "    }\n",
       "</style>\n",
       "<table border=\"1\" class=\"dataframe\">\n",
       "  <thead>\n",
       "    <tr style=\"text-align: right;\">\n",
       "      <th></th>\n",
       "      <th>Avg. Area Income</th>\n",
       "      <th>Avg. Area House Age</th>\n",
       "      <th>Avg. Area Number of Rooms</th>\n",
       "      <th>Avg. Area Number of Bedrooms</th>\n",
       "      <th>Area Population</th>\n",
       "      <th>Price</th>\n",
       "      <th>Address</th>\n",
       "    </tr>\n",
       "  </thead>\n",
       "  <tbody>\n",
       "    <tr>\n",
       "      <th>256</th>\n",
       "      <td>91159.418327</td>\n",
       "      <td>6.536045</td>\n",
       "      <td>7.373851</td>\n",
       "      <td>3.01</td>\n",
       "      <td>54861.091097</td>\n",
       "      <td>2.298379e+06</td>\n",
       "      <td>170 Smith Wall\\nSouth Christopherhaven, AZ 87521</td>\n",
       "    </tr>\n",
       "    <tr>\n",
       "      <th>465</th>\n",
       "      <td>90592.469609</td>\n",
       "      <td>7.700132</td>\n",
       "      <td>9.708803</td>\n",
       "      <td>5.19</td>\n",
       "      <td>37223.876167</td>\n",
       "      <td>2.469066e+06</td>\n",
       "      <td>USNS Vargas\\nFPO AE 56319-6904</td>\n",
       "    </tr>\n",
       "    <tr>\n",
       "      <th>693</th>\n",
       "      <td>107701.748378</td>\n",
       "      <td>7.143522</td>\n",
       "      <td>8.518608</td>\n",
       "      <td>3.29</td>\n",
       "      <td>37619.439929</td>\n",
       "      <td>2.332111e+06</td>\n",
       "      <td>41017 Eric Village\\nJonathanport, CO 37205</td>\n",
       "    </tr>\n",
       "    <tr>\n",
       "      <th>924</th>\n",
       "      <td>83814.101156</td>\n",
       "      <td>8.571797</td>\n",
       "      <td>7.392164</td>\n",
       "      <td>3.39</td>\n",
       "      <td>51538.056796</td>\n",
       "      <td>2.330290e+06</td>\n",
       "      <td>125 Gillespie Plain\\nWhitefurt, MO 18599</td>\n",
       "    </tr>\n",
       "    <tr>\n",
       "      <th>1248</th>\n",
       "      <td>94733.971275</td>\n",
       "      <td>7.885829</td>\n",
       "      <td>7.162373</td>\n",
       "      <td>5.41</td>\n",
       "      <td>46314.690046</td>\n",
       "      <td>2.318286e+06</td>\n",
       "      <td>4393 James Springs Apt. 818\\nMargaretview, ND ...</td>\n",
       "    </tr>\n",
       "    <tr>\n",
       "      <th>2538</th>\n",
       "      <td>82859.591647</td>\n",
       "      <td>8.090383</td>\n",
       "      <td>6.927192</td>\n",
       "      <td>4.41</td>\n",
       "      <td>60040.547298</td>\n",
       "      <td>2.294648e+06</td>\n",
       "      <td>75982 Ramos Locks Apt. 667\\nNicoleview, SD 337...</td>\n",
       "    </tr>\n",
       "    <tr>\n",
       "      <th>2719</th>\n",
       "      <td>101599.670580</td>\n",
       "      <td>7.798746</td>\n",
       "      <td>7.480512</td>\n",
       "      <td>6.39</td>\n",
       "      <td>37523.864670</td>\n",
       "      <td>2.370231e+06</td>\n",
       "      <td>52280 Steven Street\\nRobertchester, IA 40405-0504</td>\n",
       "    </tr>\n",
       "  </tbody>\n",
       "</table>\n",
       "</div>"
      ],
      "text/plain": [
       "      Avg. Area Income  Avg. Area House Age  Avg. Area Number of Rooms  \\\n",
       "256       91159.418327             6.536045                   7.373851   \n",
       "465       90592.469609             7.700132                   9.708803   \n",
       "693      107701.748378             7.143522                   8.518608   \n",
       "924       83814.101156             8.571797                   7.392164   \n",
       "1248      94733.971275             7.885829                   7.162373   \n",
       "2538      82859.591647             8.090383                   6.927192   \n",
       "2719     101599.670580             7.798746                   7.480512   \n",
       "\n",
       "      Avg. Area Number of Bedrooms  Area Population         Price  \\\n",
       "256                           3.01     54861.091097  2.298379e+06   \n",
       "465                           5.19     37223.876167  2.469066e+06   \n",
       "693                           3.29     37619.439929  2.332111e+06   \n",
       "924                           3.39     51538.056796  2.330290e+06   \n",
       "1248                          5.41     46314.690046  2.318286e+06   \n",
       "2538                          4.41     60040.547298  2.294648e+06   \n",
       "2719                          6.39     37523.864670  2.370231e+06   \n",
       "\n",
       "                                                Address  \n",
       "256    170 Smith Wall\\nSouth Christopherhaven, AZ 87521  \n",
       "465                      USNS Vargas\\nFPO AE 56319-6904  \n",
       "693          41017 Eric Village\\nJonathanport, CO 37205  \n",
       "924            125 Gillespie Plain\\nWhitefurt, MO 18599  \n",
       "1248  4393 James Springs Apt. 818\\nMargaretview, ND ...  \n",
       "2538  75982 Ramos Locks Apt. 667\\nNicoleview, SD 337...  \n",
       "2719  52280 Steven Street\\nRobertchester, IA 40405-0504  "
      ]
     },
     "metadata": {},
     "output_type": "display_data"
    }
   ],
   "source": [
    "df.isnull()\n",
    "\n",
    "df.describe()\n",
    "numer_cols = ['Avg. Area Income','Avg. Area House Age','Avg. Area Number of Rooms', 'Avg. Area Number of Bedrooms', 'Area Population','Price']\n",
    "for c in numer_cols:\n",
    "    outliers = df[df[c] > df[c].mean() + 3 * df[c].std()]\n",
    "    print(\"Outliers in : \" + c)\n",
    "    display(outliers)"
   ]
  },
  {
   "cell_type": "markdown",
   "metadata": {
    "id": "GGei4Yj5PMRu"
   },
   "source": [
    "### What is the average and median of Price values in this dataset?"
   ]
  },
  {
   "cell_type": "code",
   "execution_count": 101,
   "metadata": {
    "id": "1422KlYiPMRv"
   },
   "outputs": [
    {
     "data": {
      "text/plain": [
       "1232669.3779657914"
      ]
     },
     "execution_count": 101,
     "metadata": {},
     "output_type": "execute_result"
    }
   ],
   "source": [
    "df['Price'].mean()\n",
    "df['Price'].median()"
   ]
  },
  {
   "cell_type": "markdown",
   "metadata": {
    "id": "Yr3X4rFQPMRv"
   },
   "source": [
    "### Plot a scatter-plot of Price in terms of \"Avg. Area Income\""
   ]
  },
  {
   "cell_type": "code",
   "execution_count": 103,
   "metadata": {
    "id": "vfMegnQEPMRw"
   },
   "outputs": [
    {
     "data": {
      "text/plain": [
       "<AxesSubplot:xlabel='Avg. Area Income', ylabel='Price'>"
      ]
     },
     "execution_count": 103,
     "metadata": {},
     "output_type": "execute_result"
    },
    {
     "data": {
      "image/png": "[encoded data removed]",
      "text/plain": [
       "<Figure size 432x288 with 1 Axes>"
      ]
     },
     "metadata": {
      "needs_background": "light"
     },
     "output_type": "display_data"
    }
   ],
   "source": [
    "df.plot.scatter(x='Avg. Area Income', y='Price')"
   ]
  },
  {
   "cell_type": "code",
   "execution_count": null,
   "metadata": {
    "id": "fd3l1KDcPMRw"
   },
   "outputs": [],
   "source": []
  },
  {
   "cell_type": "code",
   "execution_count": null,
   "metadata": {
    "id": "KY5BSOhIPMRw"
   },
   "outputs": [],
   "source": []
  },
  {
   "cell_type": "code",
   "execution_count": null,
   "metadata": {
    "id": "_tWVSBGFPMRw"
   },
   "outputs": [],
   "source": []
  },
  {
   "cell_type": "code",
   "execution_count": null,
   "metadata": {
    "id": "6eRLgU-ePMRw"
   },
   "outputs": [],
   "source": []
  }
 ],
 "metadata": {
  "colab": {
   "collapsed_sections": [],
   "name": "data_scientist_mindset.ipynb",
   "provenance": []
  },
  "kernelspec": {
   "display_name": "Python 3 (ipykernel)",
   "language": "python",
   "name": "python3"
  },
  "language_info": {
   "codemirror_mode": {
    "name": "ipython",
    "version": 3
   },
   "file_extension": ".py",
   "mimetype": "text/x-python",
   "name": "python",
   "nbconvert_exporter": "python",
   "pygments_lexer": "ipython3",
   "version": "3.8.8"
  }
 },
 "nbformat": 4,
 "nbformat_minor": 1
}
