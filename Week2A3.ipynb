{
 "cells": [
  {
   "cell_type": "markdown",
   "id": "c943f1ae",
   "metadata": {},
   "source": [
    "Stage #1- Collecting Data\n",
    "1- Python, sql, Nosql\n",
    "2- I want to explore how nosql DBs work and how we work with unstructured big data"
   ]
  },
  {
   "cell_type": "markdown",
   "id": "614ebba2",
   "metadata": {},
   "source": [
    "Stage #2- Understanding Data\n",
    "1-Pandas, Excel\n",
    "2-How to better understand correlations between data elements"
   ]
  },
  {
   "cell_type": "markdown",
   "id": "598a8af9",
   "metadata": {},
   "source": [
    "Stage #3- Cleaning Data\n",
    "1- Excel, Pandas\n",
    "2- Finding and removing outliers in complex scenarios?\n"
   ]
  },
  {
   "cell_type": "markdown",
   "id": "998939ae",
   "metadata": {},
   "source": [
    "Stage #4- Statistical Analysis\n",
    "1- Excel, IBM Cognos Analytics\n",
    "2- Creating dynamic dashboards with cognos analytics is extremely fun and interesting so excited to learn more about it.\n"
   ]
  },
  {
   "cell_type": "markdown",
   "id": "8385e0e1",
   "metadata": {},
   "source": [
    "Stage #5- Predictive Modeling* (Statistical Learning aka Machine Learning)\n",
    "1- Matlab, Python\n",
    "2- Interested to learn about deep learning and how Tesla is solving self-driving cars"
   ]
  },
  {
   "cell_type": "markdown",
   "id": "91063eb8",
   "metadata": {},
   "source": [
    "Stage #6- Evaluation\n",
    "1- Arize, Evidently\n",
    "2-Which evaluation metrics (like accuracy, precission, recall, f-measure, confusion matrix) are appropriate to evaluate which ML models.\n"
   ]
  },
  {
   "cell_type": "markdown",
   "id": "206b0d71",
   "metadata": {},
   "source": [
    "Stage #7- Deployment\n",
    "1-streamlit, github, heroku\n",
    "2-I want to actually deploy an app I have built myself. Want to learn the tools that will be needed.\n",
    "\n"
   ]
  },
  {
   "cell_type": "code",
   "execution_count": null,
   "id": "604da6ba",
   "metadata": {},
   "outputs": [],
   "source": []
  }
 ],
 "metadata": {
  "kernelspec": {
   "display_name": "Python 3 (ipykernel)",
   "language": "python",
   "name": "python3"
  },
  "language_info": {
   "codemirror_mode": {
    "name": "ipython",
    "version": 3
   },
   "file_extension": ".py",
   "mimetype": "text/x-python",
   "name": "python",
   "nbconvert_exporter": "python",
   "pygments_lexer": "ipython3",
   "version": "3.8.8"
  }
 },
 "nbformat": 4,
 "nbformat_minor": 5
}
