{
 "cells": [
  {
   "cell_type": "markdown",
   "id": "e7e5e63b",
   "metadata": {},
   "source": [
    "1- Found it quickly in templates in index.html and changed it to Find Out! It makes sense because templates define the layout in html/css and index.html is the only page in this project so it had to be there. \n",
    "\n",
    "2- Found it quickly in app.py, checked the index.html file I had opened and found prediction_text being passed to the template. Since I've worked in django before it would be passed from a view which would render the template and I found it in app.py\n",
    "\n",
    "3- I was able to incorporate my regression model developed in a previous assignment of this course for predicting the value of a house based on 8 most correlated features. \n",
    "\n",
    "I had to change the UI in the html to accomodate the input form to handle 8 values, I also made changes to the title and the prediction text in the index.html. \n",
    "\n",
    "Further I had to ammend the css to better display the webpage, since I was using more features the absolute position of the login div was causing content to be not visible. \n",
    "\n",
    "I had to convert my model to .pkl using the pickle library and the command pickle.dump(model, open('./bdsf_model.pkl', 'wb')). \n",
    "\n",
    "Finally I had to ammend app.py to load my model and change the output and render to simply display the output of the model after takings its exponent as it was log normalized for prediciton. \n",
    "\n",
    "Screenshot is attached with submission!"
   ]
  },
  {
   "cell_type": "markdown",
   "id": "edb3a81f",
   "metadata": {},
   "source": []
  }
 ],
 "metadata": {
  "kernelspec": {
   "display_name": "Python 3 (ipykernel)",
   "language": "python",
   "name": "python3"
  },
  "language_info": {
   "codemirror_mode": {
    "name": "ipython",
    "version": 3
   },
   "file_extension": ".py",
   "mimetype": "text/x-python",
   "name": "python",
   "nbconvert_exporter": "python",
   "pygments_lexer": "ipython3",
   "version": "3.8.8"
  }
 },
 "nbformat": 4,
 "nbformat_minor": 5
}
