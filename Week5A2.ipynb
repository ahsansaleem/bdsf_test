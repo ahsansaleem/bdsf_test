{
 "cells": [
  {
   "cell_type": "markdown",
   "id": "c216521f",
   "metadata": {},
   "source": [
    "1-The two products I can see myself using in the future are Amazon SageMaker and Amazon RDS. I chose SageMaker because it is complete solution for building, training and deploying machine learning models all in once place which I will be doing a lot as a data scientist. Secondly I chose RDS or relational database because as a data scientist I will be working with a lot of data and a relational database management system in the cloud is a must have, plus Amazon RDS can work with MYsql, SQLServer, Maria DB, Postgresql and Oracle.\n",
    "\n",
    "2-Putting my self in the boots of these large companies I think my two biggest concerns would be A- the security of my company/my users data i.e. how strong the defence against hackers is or how good their cybersecurity policy and implementation is and B- the redunancy or the uptime of their service, how likely is my service to be down, is it possible for me to loose important customer data due to lack of redundancy and backups etc. Uptime is extremely important for services like spotify, as they risk loosing a lot of customers if the uptime of their service is not good.\n",
    "\n",
    "3- I would defintely choose the cloud over hosting my model/site in my basement\n",
    "Advantages of hosting it in the cloud include, easy deployment, no requirement to deal with hardware that can fail, easy backups, easy upgradation of available resources, low maintenance cost.\n",
    "Disadvantages of hosting it in the cloud would be primarily that everything is based on the internet, if the internet goes down I would have no way to access my data. Another issue would be the lack of pure control I would have on the service as compared to if I were hosting it on my own. Finally my security would only be as good as the security of the cloud service provider I am using. "
   ]
  },
  {
   "cell_type": "code",
   "execution_count": null,
   "id": "2f08c88b",
   "metadata": {},
   "outputs": [],
   "source": []
  }
 ],
 "metadata": {
  "kernelspec": {
   "display_name": "Python 3 (ipykernel)",
   "language": "python",
   "name": "python3"
  },
  "language_info": {
   "codemirror_mode": {
    "name": "ipython",
    "version": 3
   },
   "file_extension": ".py",
   "mimetype": "text/x-python",
   "name": "python",
   "nbconvert_exporter": "python",
   "pygments_lexer": "ipython3",
   "version": "3.8.8"
  }
 },
 "nbformat": 4,
 "nbformat_minor": 5
}
