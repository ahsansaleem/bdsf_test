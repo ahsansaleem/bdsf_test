{
 "cells": [
  {
   "cell_type": "markdown",
   "id": "129a1ad7",
   "metadata": {},
   "source": [
    "1- Screenshot seperately attached.\n",
    "2- The first table in schema \"Olympic Data\" is OLYM_Athletes\n",
    "3- This query is retrieving all the data from the table OLYM_Athletes namely ID\tATHLETE_NAME ATHLETE_GENDER. Select  * means to retrieve all the columns. Since there is no where condition we are also retrieving all rows.\n",
    "4- This query is specifically retrieving the columns ATHLETE_NAME ATHLETE_GENDER from the table OLYM_Athletes. Furthermore only rows where the ATHLETE_GENDERS = female are being retrieved. This is contrary to query in part 3 where we were retrieving all columns and all rows without a conditional statement.\n",
    "5- I found 11 rows, modified query given below.\n",
    "select * from OLYM.\"OLYM_MEDALS_VIEW\" where OLYM_MEDALS_VIEW.NOC = 'IRI' AND OLYM_MEDALS_VIEW.Medal = 'Gold';\n"
   ]
  }
 ],
 "metadata": {
  "kernelspec": {
   "display_name": "Python 3 (ipykernel)",
   "language": "python",
   "name": "python3"
  },
  "language_info": {
   "codemirror_mode": {
    "name": "ipython",
    "version": 3
   },
   "file_extension": ".py",
   "mimetype": "text/x-python",
   "name": "python",
   "nbconvert_exporter": "python",
   "pygments_lexer": "ipython3",
   "version": "3.8.8"
  }
 },
 "nbformat": 4,
 "nbformat_minor": 5
}
