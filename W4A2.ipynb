{
 "cells": [
  {
   "cell_type": "markdown",
   "id": "978ac0bc",
   "metadata": {},
   "source": [
    "1-My Github username is ahsansaleem\n",
    "2- Yes, We can create a new repository from the + button at the top right of the github page"
   ]
  },
  {
   "cell_type": "code",
   "execution_count": 3,
   "id": "ca21386e",
   "metadata": {},
   "outputs": [
    {
     "name": "stderr",
     "output_type": "stream",
     "text": [
      "Cloning into 'BDSF'...\n"
     ]
    }
   ],
   "source": [
    "!git clone https://github.com/smirs/BDSF.git "
   ]
  },
  {
   "cell_type": "markdown",
   "id": "eb42de9f",
   "metadata": {},
   "source": []
  },
  {
   "cell_type": "code",
   "execution_count": null,
   "id": "1cc0b3d8",
   "metadata": {},
   "outputs": [],
   "source": []
  }
 ],
 "metadata": {
  "kernelspec": {
   "display_name": "Python 3 (ipykernel)",
   "language": "python",
   "name": "python3"
  },
  "language_info": {
   "codemirror_mode": {
    "name": "ipython",
    "version": 3
   },
   "file_extension": ".py",
   "mimetype": "text/x-python",
   "name": "python",
   "nbconvert_exporter": "python",
   "pygments_lexer": "ipython3",
   "version": "3.8.8"
  }
 },
 "nbformat": 4,
 "nbformat_minor": 5
}
