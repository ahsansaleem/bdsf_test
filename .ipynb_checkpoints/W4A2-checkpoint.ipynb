{
 "cells": [
  {
   "cell_type": "markdown",
   "id": "978ac0bc",
   "metadata": {},
   "source": [
    "1-My Github username is ahsansaleem\n",
    "2- Yes, We can create a new repository from the + button at the top right of the github page"
   ]
  },
  {
   "cell_type": "markdown",
   "id": "ad8416ad",
   "metadata": {},
   "source": [
    "!git clone https://github.com/smirs/BDSF.git "
   ]
  },
  {
   "cell_type": "markdown",
   "id": "eb42de9f",
   "metadata": {},
   "source": [
    "4- Created and uploaded this notebook on the first try on the following repository https://github.com/ahsansaleem/bdsf_test\n"
   ]
  },
  {
   "cell_type": "code",
   "execution_count": null,
   "id": "1cc0b3d8",
   "metadata": {},
   "outputs": [],
   "source": []
  }
 ],
 "metadata": {
  "kernelspec": {
   "display_name": "Python 3 (ipykernel)",
   "language": "python",
   "name": "python3"
  },
  "language_info": {
   "codemirror_mode": {
    "name": "ipython",
    "version": 3
   },
   "file_extension": ".py",
   "mimetype": "text/x-python",
   "name": "python",
   "nbconvert_exporter": "python",
   "pygments_lexer": "ipython3",
   "version": "3.8.8"
  }
 },
 "nbformat": 4,
 "nbformat_minor": 5
}
