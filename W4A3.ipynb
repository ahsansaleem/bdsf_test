{
 "cells": [
  {
   "cell_type": "markdown",
   "id": "70f59f38",
   "metadata": {},
   "source": [
    "1- forked the repo successfuly. Cloning is a git command whereas Forking is a github feature. In cloning we are simply getting a copy of the repo but in forking we also get a copy but it gets saved to our github account and gets tracked for changes in it and the repository we forked from. We can further update it from the main repo or even suggest changes we make as pull requests to the origninal owner of the repo as do in part 2.\n",
    "\n",
    "2- Added the line and initiated the pull request\n",
    "\n",
    "3- sphinx is a tool for creating good looking documentation in a variety of formats. It was initially created for python but has the abilities for documentation creation in a variety of languages and formats such as HTML, Latex, Epub or plain text. It has great features like linking, code sections, formatting etc.  \n",
    "\n",
    "4- I think most of the developers are focused on just getting the job done within the deadline and get it to the client and due to the time crunch they do not bother with documentations or unit tests. Another reason for lack of documentation is laziness on part of the developers which is bad coding practise and can cause issues for them later on. "
   ]
  },
  {
   "cell_type": "code",
   "execution_count": null,
   "id": "1e3f9163",
   "metadata": {},
   "outputs": [],
   "source": []
  }
 ],
 "metadata": {
  "kernelspec": {
   "display_name": "Python 3 (ipykernel)",
   "language": "python",
   "name": "python3"
  },
  "language_info": {
   "codemirror_mode": {
    "name": "ipython",
    "version": 3
   },
   "file_extension": ".py",
   "mimetype": "text/x-python",
   "name": "python",
   "nbconvert_exporter": "python",
   "pygments_lexer": "ipython3",
   "version": "3.8.8"
  }
 },
 "nbformat": 4,
 "nbformat_minor": 5
}
